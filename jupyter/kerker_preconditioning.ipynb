{
 "cells": [
  {
   "cell_type": "markdown",
   "source": [
    "#  Plot comparisons\n",
    "\n",
    "* Should start to adopt postopus\n",
    "* Time and N iterations \n",
    "* ~Rel density and total density"
   ],
   "metadata": {
    "collapsed": false
   },
   "id": "b09859bc61b52e70"
  },
  {
   "cell_type": "code",
   "execution_count": 42,
   "outputs": [
    {
     "name": "stdout",
     "output_type": "stream",
     "text": [
      "The autoreload extension is already loaded. To reload it, use:\n",
      "  %reload_ext autoreload\n"
     ]
    }
   ],
   "source": [
    "import itertools\n",
    "%load_ext autoreload\n",
    "%autoreload 2\n",
    "\n",
    "import numpy as np\n",
    "import enum\n",
    "import matplotlib.pyplot as plt\n",
    "\n",
    "from oct_utils import ConvergenceData, parse_profiling\n",
    "\n",
    "\n",
    "\n",
    "# For timings, either want \n",
    "# Walltime:  08.244s from std.out \n",
    "# or\n",
    "# COMPLETE_RUN from profiling/time.000000\n",
    "\n",
    "# conv_no_pre = ConvergenceData(f'no_preconditioning/{file}')\n",
    "# conv_pre = ConvergenceData(f'preconditioning/{file}')\n",
    "# data_no_pre = np.column_stack((conv_no_pre.get('iter'), conv_no_pre.get('rel_dens')))\n",
    "# data_pre = np.column_stack((conv_pre.get('iter'), conv_pre.get('rel_dens')))\n",
    "\n",
    "files = ['1ALA_broyden']\n",
    "\n",
    "\n",
    "def initialise_subplot(n_rows: int, n_cols: int):\n",
    "    # Plot settings\n",
    "    # n_rows = math.ceil(len(system_names) / n_cols)\n",
    "    assert n_rows > 0, \"Must have at least one row\"\n",
    "    assert n_cols > 0, \"Must have at least one column\"\n",
    "\n",
    "    # Calculate the aspect ratio of standard A4\n",
    "    aspect_ratio = 297.0 / 210.0\n",
    "\n",
    "    # Calculate the width of the figure in inches\n",
    "    fig_width = 8.3  # A4 width in inches (approx)\n",
    "\n",
    "    # Calculate the height of the figure in inches to maintain aspect ratio\n",
    "    fig_height = fig_width / aspect_ratio * (n_rows / n_cols)\n",
    "\n",
    "    fig, axs = plt.subplots(n_rows, n_cols, figsize=(fig_width, fig_height))\n",
    "    fig.set_tight_layout(True)\n",
    "    return fig, axs\n",
    "    \n",
    "    \n",
    "# TODO(Alex) Do subplots, exactly how I did with xTB project. \n",
    "\n",
    "# def plot_convergence(files, ):\n",
    "#     nrows =1\n",
    "#     # Plot histogram next to \n",
    "#     ncols = 2\n",
    "#     fig, axes = plt.subplots(nrows, ncols)\n",
    "#     \n",
    "#     # line_width = 2\n",
    "#     # marker_size = 7\n",
    "#     # label_size = 14\n",
    "#     # font_size = 14\n",
    "#     # leg_font_size = 14\n",
    "#     \n",
    "#     plt.yscale('log')\n",
    "#     \n",
    "#     # Initialise counters\n",
    "#     empty_lims = 0, 0\n",
    "#     i_cmp = -1\n",
    "#     \n",
    "#     for i, j in itertools.product(range(nrows), range(ncols)):\n",
    "#         i_cmp += 1\n",
    "#         file = files[i_cmp]\n",
    "#         \n",
    "#         no_pre = ConvergenceData(f'no_preconditioning/{file}')\n",
    "#         pre = ConvergenceData(f'preconditioning/{file}')\n",
    "#             \n",
    "#         plt.plot(no_pre.data[:, 0], no_pre.data[:, 4], label='No Preconditioner')\n",
    "#         plt.plot(pre.data[:, 0], pre.data[:, 4], label='Preconditioner')\n",
    "#         plt.legend()\n",
    "# \n",
    "\n"
   ],
   "metadata": {
    "collapsed": false,
    "ExecuteTime": {
     "end_time": "2024-01-09T20:14:24.385280Z",
     "start_time": "2024-01-09T20:14:24.372856Z"
    }
   },
   "id": "15dfb1de74cc2c57"
  },
  {
   "cell_type": "code",
   "execution_count": 70,
   "outputs": [
    {
     "data": {
      "text/plain": "<Figure size 640x480 with 1 Axes>",
      "image/png": "[encoded data removed]"
     },
     "metadata": {},
     "output_type": "display_data"
    }
   ],
   "source": [
    "import numpy as np\n",
    "import matplotlib.pyplot as plt\n",
    "from typing import List\n",
    "\n",
    "from oct_utils import parse_profiling\n",
    "\n",
    "\n",
    "def bar_chart_data_single_field(files, field1: str, field2: str):\n",
    "    \"\"\"\n",
    "    Return a single data field, for all systems\n",
    "    :param files: \n",
    "    :return: \n",
    "    \"\"\"\n",
    "    values = []\n",
    "    for file in files:\n",
    "        data = parse_profiling(file)\n",
    "        values.append(data['cumulative'][field1][field2])\n",
    "    return values\n",
    "\n",
    "\n",
    "def bar_plot(systems: List[str], fields: List[dict], width = 0.27):\n",
    "    fig = plt.figure()\n",
    "    ax = fig.add_subplot(111)\n",
    "    x_dummy = np.arange(len(systems))  # the x locations for the groups\n",
    "    \n",
    "    plots = []\n",
    "    field_labels = []\n",
    "    for i, field in enumerate(fields):\n",
    "        plots.append(ax.bar(x_dummy + (i * width), field['data'], width, color=field['color']))\n",
    "        field_labels.append(field['label'])\n",
    "\n",
    "    ax.set_ylabel('Time (s)')\n",
    "    n = len(fields)\n",
    "    ax.set_xticks(x_dummy + ((n - 1) * 0.5 * width))\n",
    "    ax.set_xticklabels(systems)\n",
    "    ax.legend(plots, field_labels)\n",
    "\n",
    "\n",
    "# TODO (Alex)\n",
    "# Make the colour scheme a bit smarter, then generalise to n-systems\n",
    "# Add label of number of SCF iterations, with and without P(r)\n",
    "# Followed this ref for bar charts: https://stackoverflow.com/questions/14270391/how-to-plot-multiple-bars-grouped\n",
    "\n",
    "# SCF Time - no preconditioner\n",
    "files = ['no_preconditioning/1ALA_broyden']\n",
    "scf_no_pre_values = bar_chart_data_single_field(files, 'SCF_CYCLE', 'TOTAL_TIME')\n",
    "# Total time - no preconditioner\n",
    "total_no_pre_values = bar_chart_data_single_field(files, 'COMPLETE_RUN', 'TOTAL_TIME')\n",
    "\n",
    "# SCF Time - Preconditioner\n",
    "files = ['preconditioning/1ALA_broyden']\n",
    "scf_pre_values = bar_chart_data_single_field(files, 'SCF_CYCLE', 'TOTAL_TIME')\n",
    "# Total time - Preconditioner\n",
    "total_pre_values = bar_chart_data_single_field(files, 'COMPLETE_RUN', 'TOTAL_TIME')\n",
    "\n",
    "\n",
    "fields = [{'data': scf_no_pre_values, 'label': 'SCF. No P(r)', 'color': 'r'},\n",
    "          {'data': scf_pre_values, 'label': 'SCF. P(r)', 'color': 'b'},\n",
    "          {'data': total_no_pre_values, 'label': 'Total Time. No P(r)', 'color': 'g'},\n",
    "          {'data': total_pre_values, 'label': 'Total Time. P(r)', 'color': 'orange'}]\n",
    "\n",
    "systems = ['1ALA_broyden']\n",
    "bar_plot(systems, fields)\n"
   ],
   "metadata": {
    "collapsed": false,
    "ExecuteTime": {
     "end_time": "2024-01-09T21:06:50.546807Z",
     "start_time": "2024-01-09T21:06:50.478650Z"
    }
   },
   "id": "410b88477face64f"
  },
  {
   "cell_type": "code",
   "execution_count": null,
   "outputs": [],
   "source": [],
   "metadata": {
    "collapsed": false
   },
   "id": "b86efd2fdc77ea87"
  }
 ],
 "metadata": {
  "kernelspec": {
   "display_name": "Python 3",
   "language": "python",
   "name": "python3"
  },
  "language_info": {
   "codemirror_mode": {
    "name": "ipython",
    "version": 2
   },
   "file_extension": ".py",
   "mimetype": "text/x-python",
   "name": "python",
   "nbconvert_exporter": "python",
   "pygments_lexer": "ipython2",
   "version": "2.7.6"
  }
 },
 "nbformat": 4,
 "nbformat_minor": 5
}
